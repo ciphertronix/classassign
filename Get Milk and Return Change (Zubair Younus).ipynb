{
 "cells": [
  {
   "cell_type": "code",
   "execution_count": 32,
   "metadata": {},
   "outputs": [
    {
     "name": "stdout",
     "output_type": "stream",
     "text": [
      "How many Bottles you need: 100\n",
      "Total Price of Bottles:  2500\n",
      "Pay your Amount: 5000\n",
      "Its your Change:  2500\n"
     ]
    }
   ],
   "source": [
    "def getMilk(price, bottles=0):\n",
    "    bottles_required = int(input(\"How many Bottles you need: \"))\n",
    "    cost_of_bottels = price * bottles_required\n",
    "    print(\"Total Price of Bottles: \", cost_of_bottels)\n",
    "    \n",
    "    pay_ment = int(input(\"Pay your Amount: \"))\n",
    "    \n",
    "    print(\"Its your Change: \", pay_ment - cost_of_bottels)\n",
    "    \n",
    "getMilk(25)\n",
    "    \n",
    "    \n",
    "    "
   ]
  }
 ],
 "metadata": {
  "kernelspec": {
   "display_name": "Python 3",
   "language": "python",
   "name": "python3"
  },
  "language_info": {
   "codemirror_mode": {
    "name": "ipython",
    "version": 3
   },
   "file_extension": ".py",
   "mimetype": "text/x-python",
   "name": "python",
   "nbconvert_exporter": "python",
   "pygments_lexer": "ipython3",
   "version": "3.7.1"
  }
 },
 "nbformat": 4,
 "nbformat_minor": 2
}
